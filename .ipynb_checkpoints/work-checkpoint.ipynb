{
 "cells": [
  {
   "cell_type": "code",
   "execution_count": 1,
   "metadata": {
    "scrolled": true
   },
   "outputs": [
    {
     "data": {
      "text/plain": [
       "exception Unimplemented\n"
      ]
     },
     "execution_count": 1,
     "metadata": {},
     "output_type": "execute_result"
    }
   ],
   "source": [
    "exception Unimplemented"
   ]
  },
  {
   "cell_type": "code",
   "execution_count": 2,
   "metadata": {},
   "outputs": [
    {
     "data": {
      "text/plain": [
       "exception UnexpectedError\n"
      ]
     },
     "execution_count": 2,
     "metadata": {},
     "output_type": "execute_result"
    }
   ],
   "source": [
    "exception UnexpectedError"
   ]
  },
  {
   "cell_type": "code",
   "execution_count": 3,
   "metadata": {
    "scrolled": true
   },
   "outputs": [
    {
     "data": {
      "text/plain": [
       "type var = string\n"
      ]
     },
     "execution_count": 3,
     "metadata": {},
     "output_type": "execute_result"
    }
   ],
   "source": [
    "type var = string"
   ]
  },
  {
   "cell_type": "code",
   "execution_count": 4,
   "metadata": {},
   "outputs": [
    {
     "data": {
      "text/plain": [
       "val fstring : ('a, unit, string) format -> 'a = <fun>\n"
      ]
     },
     "execution_count": 4,
     "metadata": {},
     "output_type": "execute_result"
    }
   ],
   "source": [
    "let fstring = Printf.sprintf"
   ]
  },
  {
   "cell_type": "code",
   "execution_count": 5,
   "metadata": {},
   "outputs": [
    {
     "data": {
      "text/plain": [
       "type typ = TUnit | Loli of typ * typ | Tensor of typ * typ | Sum of typ * typ\n"
      ]
     },
     "execution_count": 5,
     "metadata": {},
     "output_type": "execute_result"
    }
   ],
   "source": [
    "type typ = \n",
    "    | TUnit\n",
    "    | Loli   of typ * typ\n",
    "    | Tensor of typ * typ\n",
    "    | Sum    of typ * typ"
   ]
  },
  {
   "cell_type": "code",
   "execution_count": 6,
   "metadata": {},
   "outputs": [
    {
     "data": {
      "text/plain": [
       "val printtype : typ -> string = <fun>\n"
      ]
     },
     "execution_count": 6,
     "metadata": {},
     "output_type": "execute_result"
    },
    {
     "data": {
      "text/plain": [
       "- : string = \"((1⊗1)⊸1)\"\n"
      ]
     },
     "execution_count": 6,
     "metadata": {},
     "output_type": "execute_result"
    }
   ],
   "source": [
    "let rec printtype t = \n",
    "    match t with\n",
    "    | TUnit           -> \"1\"\n",
    "    | Loli (t1, t2)   -> fstring \"(%s⊸%s)\" (printtype t1) (printtype t2)\n",
    "    | Tensor (t1, t2) -> fstring \"(%s⊗%s)\" (printtype t1) (printtype t2)\n",
    "    | Sum (t1, t2)    -> fstring \"(%s+%s)\" (printtype t1) (printtype t2);;\n",
    "    \n",
    "printtype (Loli(Tensor(TUnit, TUnit), TUnit))"
   ]
  },
  {
   "cell_type": "code",
   "execution_count": 7,
   "metadata": {},
   "outputs": [
    {
     "data": {
      "text/plain": [
       "type expr =\n",
       "    EUnit\n",
       "  | Var of var\n",
       "  | Lambda of var * expr\n",
       "  | App of expr * expr\n",
       "  | Pair of expr * expr\n",
       "  | Unpair of var * var * expr * expr\n",
       "  | Annot of expr * typ\n",
       "  | L of expr\n",
       "  | R of expr\n",
       "  | Case of expr * var * expr * var * expr\n"
      ]
     },
     "execution_count": 7,
     "metadata": {},
     "output_type": "execute_result"
    }
   ],
   "source": [
    "type expr = \n",
    "    | EUnit\n",
    "    | Var    of var\n",
    "    | Lambda of var * expr\n",
    "    | App    of expr * expr\n",
    "    | Pair   of expr * expr\n",
    "    | Unpair of var * var * expr * expr\n",
    "    | Annot  of expr * typ\n",
    "    | L      of expr\n",
    "    | R      of expr\n",
    "    | Case   of expr * var * expr * var * expr"
   ]
  },
  {
   "cell_type": "code",
   "execution_count": 8,
   "metadata": {},
   "outputs": [
    {
     "data": {
      "text/plain": [
       "val printexpr : expr -> var = <fun>\n"
      ]
     },
     "execution_count": 8,
     "metadata": {},
     "output_type": "execute_result"
    },
    {
     "data": {
      "text/plain": [
       "- : var = \"let (x1,x2) = (λx.x, y) in (x1)(x2)\"\n"
      ]
     },
     "execution_count": 8,
     "metadata": {},
     "output_type": "execute_result"
    }
   ],
   "source": [
    "let rec printexpr e =\n",
    "    match e with\n",
    "    | EUnit -> \"()\"\n",
    "    | Var x -> x\n",
    "    | Lambda (x, e')            -> fstring \"λ%s.%s\" x (printexpr e')\n",
    "    | App (e1, e2)              -> fstring \"(%s)(%s)\" (printexpr e1) (printexpr e2)\n",
    "    | Pair (e1, e2)             -> fstring \"(%s, %s)\" (printexpr e1) (printexpr e2)\n",
    "    | Unpair (x1, x2, e1, e2)   -> fstring \"let (%s,%s) = %s in %s\" x1 x2 (printexpr e1) (printexpr e2)\n",
    "    | Annot (e', t)             -> fstring \"(%s: %s)\" (printexpr e') (printtype t)\n",
    "    | L e'                      -> fstring \"L(%s)\" (printexpr e')\n",
    "    | R e'                      -> fstring \"R(%s)\" (printexpr e')\n",
    "    | Case (e', x1, e1, x2, e2) -> fstring \"case(%s, L(%s)->%s, R(%s)->%s)\" (printexpr e') x1 (printexpr e1) x2 (printexpr e2);;\n",
    "    \n",
    "printexpr (Unpair(\"x1\", \"x2\", Pair(Lambda(\"x\", Var \"x\"), Var \"y\"), App(Var \"x1\", Var \"x2\")))"
   ]
  },
  {
   "cell_type": "code",
   "execution_count": 9,
   "metadata": {
    "scrolled": false
   },
   "outputs": [
    {
     "data": {
      "text/plain": [
       "type usage = Used | Fresh\n"
      ]
     },
     "execution_count": 9,
     "metadata": {},
     "output_type": "execute_result"
    },
    {
     "data": {
      "text/plain": [
       "type state = { var : var; used : usage; typ : typ; }\n"
      ]
     },
     "execution_count": 9,
     "metadata": {},
     "output_type": "execute_result"
    },
    {
     "data": {
      "text/plain": [
       "val mkstate : var -> usage -> typ -> state = <fun>\n"
      ]
     },
     "execution_count": 9,
     "metadata": {},
     "output_type": "execute_result"
    },
    {
     "data": {
      "text/plain": [
       "val fresh : var -> typ -> state = <fun>\n"
      ]
     },
     "execution_count": 9,
     "metadata": {},
     "output_type": "execute_result"
    },
    {
     "data": {
      "text/plain": [
       "type ctx = state list\n"
      ]
     },
     "execution_count": 9,
     "metadata": {},
     "output_type": "execute_result"
    }
   ],
   "source": [
    "type usage = Used | Fresh\n",
    "type state = {var: var; used: usage; typ: typ}\n",
    "\n",
    "let mkstate v u t = {var=v; used=u; typ=t}\n",
    "let fresh v t = mkstate v Fresh t\n",
    "\n",
    "type ctx = state list"
   ]
  },
  {
   "cell_type": "code",
   "execution_count": 10,
   "metadata": {},
   "outputs": [
    {
     "data": {
      "text/plain": [
       "val printusage : usage -> string = <fun>\n"
      ]
     },
     "execution_count": 10,
     "metadata": {},
     "output_type": "execute_result"
    }
   ],
   "source": [
    "let printusage u = match u with Fresh->\"1\"| Used->\"0\""
   ]
  },
  {
   "cell_type": "code",
   "execution_count": 11,
   "metadata": {},
   "outputs": [
    {
     "data": {
      "text/plain": [
       "val printstate : state -> string = <fun>\n"
      ]
     },
     "execution_count": 11,
     "metadata": {},
     "output_type": "execute_result"
    }
   ],
   "source": [
    "let printstate s = fstring \"%s^%s: %s\" s.var (printusage s.used) (printtype s.typ) "
   ]
  },
  {
   "cell_type": "code",
   "execution_count": 12,
   "metadata": {},
   "outputs": [
    {
     "data": {
      "text/plain": [
       "val printctx : state list -> string = <fun>\n"
      ]
     },
     "execution_count": 12,
     "metadata": {},
     "output_type": "execute_result"
    }
   ],
   "source": [
    "let printctx c =\n",
    "    let rec loop c = \n",
    "        match c with\n",
    "        | []    -> \"\"\n",
    "        | [x]     -> printstate x\n",
    "        | x::xs -> fstring \"%s; %s\" (printstate x) (loop xs)\n",
    "    in fstring \"Γ = [%s]\" (loop c)"
   ]
  },
  {
   "cell_type": "code",
   "execution_count": 13,
   "metadata": {},
   "outputs": [
    {
     "name": "stdout",
     "output_type": "stream",
     "text": [
      "Γ = [x^1: 1; y^1: (1⊸1)]\n"
     ]
    },
    {
     "data": {
      "text/plain": [
       "- : unit = ()\n"
      ]
     },
     "execution_count": 13,
     "metadata": {},
     "output_type": "execute_result"
    }
   ],
   "source": [
    "print_endline (printctx [fresh \"x\" TUnit; fresh \"y\" (Loli(TUnit, TUnit))]);;"
   ]
  },
  {
   "cell_type": "code",
   "execution_count": 14,
   "metadata": {},
   "outputs": [
    {
     "data": {
      "text/plain": [
       "type errorinfo = string\n"
      ]
     },
     "execution_count": 14,
     "metadata": {},
     "output_type": "execute_result"
    },
    {
     "data": {
      "text/plain": [
       "type 'a result = Value of 'a | Error of errorinfo\n"
      ]
     },
     "execution_count": 14,
     "metadata": {},
     "output_type": "execute_result"
    }
   ],
   "source": [
    "type errorinfo = string\n",
    "\n",
    "type 'a result = Value of 'a | Error of errorinfo"
   ]
  },
  {
   "cell_type": "code",
   "execution_count": 15,
   "metadata": {},
   "outputs": [
    {
     "data": {
      "text/plain": [
       "type 'a t = ctx -> ('a * ctx) result\n"
      ]
     },
     "execution_count": 15,
     "metadata": {},
     "output_type": "execute_result"
    },
    {
     "data": {
      "text/plain": [
       "val return : 'a -> 'a t = <fun>\n"
      ]
     },
     "execution_count": 15,
     "metadata": {},
     "output_type": "execute_result"
    },
    {
     "data": {
      "text/plain": [
       "val error : errorinfo -> 'a t = <fun>\n"
      ]
     },
     "execution_count": 15,
     "metadata": {},
     "output_type": "execute_result"
    },
    {
     "data": {
      "text/plain": [
       "val bind : 'a t -> ('a -> 'b t) -> 'b t = <fun>\n"
      ]
     },
     "execution_count": 15,
     "metadata": {},
     "output_type": "execute_result"
    },
    {
     "data": {
      "text/plain": [
       "val ( >>= ) : 'a t -> ('a -> 'b t) -> 'b t = <fun>\n"
      ]
     },
     "execution_count": 15,
     "metadata": {},
     "output_type": "execute_result"
    },
    {
     "data": {
      "text/plain": [
       "val ( >> ) : unit t -> 'a t -> 'a t = <fun>\n"
      ]
     },
     "execution_count": 15,
     "metadata": {},
     "output_type": "execute_result"
    },
    {
     "data": {
      "text/plain": [
       "val ( >>> ) : 'a t -> ('a -> 'b t) -> 'b t = <fun>\n"
      ]
     },
     "execution_count": 15,
     "metadata": {},
     "output_type": "execute_result"
    },
    {
     "data": {
      "text/plain": [
       "val ( let* ) : 'a t -> ('a -> 'b t) -> 'b t = <fun>\n"
      ]
     },
     "execution_count": 15,
     "metadata": {},
     "output_type": "execute_result"
    },
    {
     "data": {
      "text/plain": [
       "val get : ctx t = <fun>\n"
      ]
     },
     "execution_count": 15,
     "metadata": {},
     "output_type": "execute_result"
    },
    {
     "data": {
      "text/plain": [
       "val set : ctx -> unit t = <fun>\n"
      ]
     },
     "execution_count": 15,
     "metadata": {},
     "output_type": "execute_result"
    }
   ],
   "source": [
    "type 'a t = ctx -> ('a * ctx) result\n",
    "\n",
    "let return (x: 'a) : 'a t = fun (state: ctx) -> Value(x, state)\n",
    "\n",
    "let error (x: errorinfo) : 'a t = fun (_: ctx) -> Error x\n",
    "\n",
    "let bind (x: 'a t) (f: 'a -> 'b t) : 'b t = fun (state: ctx) ->\n",
    "    match x state with\n",
    "    | Value (y, s) -> f y s\n",
    "    | Error e -> Error e\n",
    "    \n",
    "let (>>=) = bind\n",
    "\n",
    "let (>>) f1 f2 = f1 >>= (fun () -> f2)\n",
    "\n",
    "let (>>>) f1 f2 = f1 >>= (fun x -> f2 x)\n",
    "\n",
    "let (let*) = bind\n",
    "\n",
    "let get: ctx t = fun (ctx: ctx) -> Value(ctx, ctx)\n",
    "\n",
    "let set: ctx -> unit t = fun (nctx: ctx) -> fun (ctx: ctx) -> Value ((), nctx)"
   ]
  },
  {
   "cell_type": "code",
   "execution_count": 16,
   "metadata": {},
   "outputs": [
    {
     "data": {
      "text/plain": [
       "val c : state list =\n",
       "  [{var = \"x\"; used = Fresh; typ = TUnit};\n",
       "   {var = \"y\"; used = Used; typ = TUnit}]\n"
      ]
     },
     "execution_count": 16,
     "metadata": {},
     "output_type": "execute_result"
    }
   ],
   "source": [
    "let c = \n",
    "    let x1 = mkstate \"x\" Fresh TUnit in\n",
    "    let x2 = mkstate \"y\" Used TUnit in\n",
    "    [x1; x2]"
   ]
  },
  {
   "cell_type": "code",
   "execution_count": 17,
   "metadata": {},
   "outputs": [
    {
     "data": {
      "text/plain": [
       "val empty : ctx -> bool = <fun>\n"
      ]
     },
     "execution_count": 17,
     "metadata": {},
     "output_type": "execute_result"
    }
   ],
   "source": [
    "let rec empty (ctx: ctx) : bool =\n",
    "    match ctx with\n",
    "    | []                         -> true\n",
    "    | x :: xs when x.used = Used -> empty xs\n",
    "    | _                          -> false"
   ]
  },
  {
   "cell_type": "code",
   "execution_count": 18,
   "metadata": {},
   "outputs": [
    {
     "data": {
      "text/plain": [
       "val lookup : var -> state t = <fun>\n"
      ]
     },
     "execution_count": 18,
     "metadata": {},
     "output_type": "execute_result"
    },
    {
     "data": {
      "text/plain": [
       "val lookup_update : var -> state t = <fun>\n"
      ]
     },
     "execution_count": 18,
     "metadata": {},
     "output_type": "execute_result"
    }
   ],
   "source": [
    "let rec lookup: var -> state t = fun (x: var) -> fun (ctx: ctx) ->\n",
    "    match ctx with\n",
    "    | []                     -> Error (fstring \"Variable %s not in context\" x)\n",
    "    | y :: ys when x = y.var -> Value (y, y :: ys)\n",
    "    | y :: ys                -> (lookup x >>= (fun s -> fun ctx' -> Value(s, y :: ctx'))) ys\n",
    "\n",
    "let rec lookup_update: var -> state t = fun (x: var) -> fun (ctx: ctx) ->\n",
    "    match ctx with\n",
    "    | []                     -> Error (fstring \"Variable %s not in context\" x)\n",
    "    | y :: ys when x = y.var -> Value (y, {y with used=Used} :: ys)\n",
    "    | y :: ys                -> (lookup_update x >>= (fun s -> fun ctx' -> Value(s, y :: ctx'))) ys"
   ]
  },
  {
   "cell_type": "code",
   "execution_count": 19,
   "metadata": {},
   "outputs": [
    {
     "data": {
      "text/plain": [
       "val withvar : state -> 'a t -> 'a t = <fun>\n"
      ]
     },
     "execution_count": 19,
     "metadata": {},
     "output_type": "execute_result"
    }
   ],
   "source": [
    "let withvar: state -> 'a t -> 'a t = fun (x: state) -> fun (m: 'a t) ->\n",
    "                                    let* ctx = get in\n",
    "                                    let* r = ((set (x::ctx)) >> m) in\n",
    "                                    let* s = lookup x.var in\n",
    "                                    match s.used with\n",
    "                                    | Used -> (set ctx) >> return r\n",
    "                                    | Fresh -> error (fstring \"Unused linear variable %s\" x.var)"
   ]
  },
  {
   "cell_type": "code",
   "execution_count": 20,
   "metadata": {},
   "outputs": [],
   "source": [
    "(*let rec withvars: state list -> 'a t -> 'a t = fun xs -> fun m ->\n",
    "                                               match xs with\n",
    "                                               | []    -> m\n",
    "                                               | x::xs -> withvar x (withvars xs m)*)"
   ]
  },
  {
   "cell_type": "code",
   "execution_count": 21,
   "metadata": {},
   "outputs": [
    {
     "data": {
      "text/plain": [
       "val withvars : state list -> unit t -> unit t = <fun>\n"
      ]
     },
     "execution_count": 21,
     "metadata": {},
     "output_type": "execute_result"
    }
   ],
   "source": [
    "let withvars: state list -> 'a t -> 'a t = fun xs -> fun m ->\n",
    "                                           let* ctx = get in\n",
    "                                           let* r = ((set (xs@ctx)) >> m) in\n",
    "                                           let rec checker l =\n",
    "                                               match l with\n",
    "                                               | []    -> (set ctx) >> return ()\n",
    "                                               | x::xs -> let* s = lookup x.var in\n",
    "                                                          match s.used with\n",
    "                                                          | Used -> checker xs\n",
    "                                                          | Fresh -> error (fstring \"Unused linear variable %s\" s.var)\n",
    "                                           in checker xs"
   ]
  },
  {
   "cell_type": "code",
   "execution_count": 22,
   "metadata": {},
   "outputs": [
    {
     "data": {
      "text/plain": [
       "val c : state list =\n",
       "  [{var = \"x\"; used = Used; typ = TUnit};\n",
       "   {var = \"y\"; used = Fresh; typ = TUnit}]\n"
      ]
     },
     "execution_count": 22,
     "metadata": {},
     "output_type": "execute_result"
    },
    {
     "data": {
      "text/plain": [
       "- : (state * ctx) result =\n",
       "Value\n",
       " ({var = \"y\"; used = Fresh; typ = TUnit},\n",
       "  [{var = \"x\"; used = Used; typ = TUnit};\n",
       "   {var = \"y\"; used = Used; typ = TUnit}])\n"
      ]
     },
     "execution_count": 22,
     "metadata": {},
     "output_type": "execute_result"
    }
   ],
   "source": [
    "let c =\n",
    "    let x1 = mkstate \"x\" Used TUnit in \n",
    "    let x2 = mkstate \"y\" Fresh TUnit in\n",
    "[x1; x2];;\n",
    "    \n",
    "lookup_update \"y\" c"
   ]
  },
  {
   "cell_type": "code",
   "execution_count": 23,
   "metadata": {},
   "outputs": [
    {
     "data": {
      "text/plain": [
       "val rm : 'a list -> 'a -> 'a list = <fun>\n"
      ]
     },
     "execution_count": 23,
     "metadata": {},
     "output_type": "execute_result"
    }
   ],
   "source": [
    "let rec rm l v =\n",
    "    match l with\n",
    "    | x :: xs when v=x -> xs\n",
    "    | x :: xs          -> x :: (rm xs v)\n",
    "    | []               -> raise UnexpectedError"
   ]
  },
  {
   "cell_type": "code",
   "execution_count": 24,
   "metadata": {},
   "outputs": [
    {
     "data": {
      "text/plain": [
       "val find : 'a list -> 'a -> bool = <fun>\n"
      ]
     },
     "execution_count": 24,
     "metadata": {},
     "output_type": "execute_result"
    }
   ],
   "source": [
    "let rec find l v = \n",
    "    match l with\n",
    "    | x :: xs when v=x -> true\n",
    "    | x :: xs          -> find xs v\n",
    "    | []               -> false"
   ]
  },
  {
   "cell_type": "code",
   "execution_count": 25,
   "metadata": {},
   "outputs": [
    {
     "data": {
      "text/plain": [
       "val same : ctx -> ctx -> bool = <fun>\n"
      ]
     },
     "execution_count": 25,
     "metadata": {},
     "output_type": "execute_result"
    }
   ],
   "source": [
    "let rec same (ctx1: ctx) (ctx2: ctx) : bool = \n",
    "    match ctx1, ctx2 with\n",
    "    | s :: ss, _ -> if find ctx2 s then same ss (rm ctx2 s)\n",
    "                                   else false\n",
    "    | [], []     -> true\n",
    "    | [], _      -> false"
   ]
  },
  {
   "cell_type": "code",
   "execution_count": 26,
   "metadata": {},
   "outputs": [
    {
     "data": {
      "text/plain": [
       "val plsTensor : typ -> (typ * typ) t = <fun>\n"
      ]
     },
     "execution_count": 26,
     "metadata": {},
     "output_type": "execute_result"
    }
   ],
   "source": [
    "let plsTensor: typ -> (typ*typ) t = fun t ->\n",
    "    match t with\n",
    "    | Tensor (t1, t2) -> return (t1, t2)\n",
    "    | _ -> error (fstring \"Expected something of the type α⊗β, got %s\" (printtype t))"
   ]
  },
  {
   "cell_type": "code",
   "execution_count": 27,
   "metadata": {},
   "outputs": [
    {
     "data": {
      "text/plain": [
       "val plsLoli : typ -> (typ * typ) t = <fun>\n"
      ]
     },
     "execution_count": 27,
     "metadata": {},
     "output_type": "execute_result"
    }
   ],
   "source": [
    "let plsLoli: typ -> (typ*typ) t = fun t ->\n",
    "    match t with\n",
    "    | Loli (t1, t2) -> return (t1, t2)\n",
    "    | _ -> error (fstring \"Expected something of the type α⊸β, got %s\" (printtype t))"
   ]
  },
  {
   "cell_type": "code",
   "execution_count": 28,
   "metadata": {},
   "outputs": [
    {
     "data": {
      "text/plain": [
       "val plsLSum : typ -> (typ * typ) t = <fun>\n"
      ]
     },
     "execution_count": 28,
     "metadata": {},
     "output_type": "execute_result"
    }
   ],
   "source": [
    "let plsLSum: typ -> (typ*typ) t = fun t ->\n",
    "    match t with\n",
    "    | Sum (t1, t2) -> return (t1, t2)\n",
    "    | _ -> error (fstring \"Expected something of the type α⊕β, got %s\" (printtype t))"
   ]
  },
  {
   "cell_type": "code",
   "execution_count": 29,
   "metadata": {},
   "outputs": [
    {
     "ename": "error",
     "evalue": "compile_error",
     "output_type": "error",
     "traceback": [
      "File \"[29]\", line 1, characters 0-5:\n1 | check (Lambda(\"x\", Annot(Var \"x\", TUnit))) (Loli(TUnit, TUnit)) []\n    ^^^^^\nError: Unbound value check\n"
     ]
    }
   ],
   "source": [
    "check (Lambda(\"x\", Annot(Var \"x\", TUnit))) (Loli(TUnit, TUnit)) []"
   ]
  },
  {
   "cell_type": "code",
   "execution_count": 30,
   "metadata": {},
   "outputs": [
    {
     "data": {
      "text/plain": [
       "val check : expr -> typ -> unit t = <fun>\n",
       "val infer : expr -> typ t = <fun>\n"
      ]
     },
     "execution_count": 30,
     "metadata": {},
     "output_type": "execute_result"
    }
   ],
   "source": [
    "let rec check (e: expr) (t: typ) : unit t = \n",
    "    match e, t with\n",
    "    | EUnit, TUnit -> return ()\n",
    "    | Lambda (x, e'), Loli (t1, t2) -> withvar (fresh x t1) (check e' t2)\n",
    "    | Pair (e1, e2), Tensor (t1, t2) -> check e1 t1 >> check e2 t2\n",
    "    | Unpair (x1, x2, e1, e2), _ -> let* t1, t2 = infer e1 >>> plsTensor in\n",
    "                                    withvars ([fresh x1 t1; fresh x2 t2]) (check e2 t2)\n",
    "    | L(e'), Sum(t1, t2) -> check e' t1\n",
    "    | R(e'), Sum(t1, t2) -> check e' t2\n",
    "    | Case (e', x1, e1, x2, e2), _ -> let* t1, t2 = infer e' >>> plsLSum in\n",
    "                                      let* ctx1 = withvar (fresh x1 t1) (check e1 t >> get) in\n",
    "                                      let* ctx2 = withvar (fresh x2 t2) (check e2 t >> get) in\n",
    "                                      if same ctx1 ctx2 then set ctx1 >> return () (*make same also monadic and make it error with a diff*)\n",
    "                                                        else error (fstring \"Different resulting contexts in case statement %s\" (printexpr e))                                       \n",
    "    | _, _ -> let* t' = infer e in\n",
    "              if t=t' then return ()\n",
    "                      else error (fstring \"Can't type check %s with %s\" (printexpr e) (printtype t))\n",
    "and infer (e: expr) : typ t =\n",
    "    match e with \n",
    "    | Var x -> let* s = lookup_update x in (\n",
    "                   match s.used with\n",
    "                   | Fresh -> return s.typ\n",
    "                   | Used  -> error (fstring \"Multiple usages of variable %s in linear context\" x)\n",
    "               )\n",
    "    | Annot (e', t) -> let* () = check e' t in return t\n",
    "    | App (e1, e2) -> let* t1, t2 = infer e1 >>> plsLoli in\n",
    "                      check e1 t1 >> check e2 t2 >> return t2\n",
    "    | _ -> error (fstring \"Can't infer type of %s\" (printexpr e))"
   ]
  },
  {
   "cell_type": "code",
   "execution_count": 31,
   "metadata": {},
   "outputs": [
    {
     "data": {
      "text/plain": [
       "val typecheck : expr -> typ t = <fun>\n"
      ]
     },
     "execution_count": 31,
     "metadata": {},
     "output_type": "execute_result"
    }
   ],
   "source": [
    "let typecheck (e: expr): typ t = \n",
    "    match e with\n",
    "    | EUnit          -> (check e TUnit) >>= (fun (_: unit) -> return TUnit)\n",
    "    | Var x          -> infer e\n",
    "    | Annot (e', t)  -> infer e\n",
    "    | App (e1, e2)   -> infer e\n",
    "    | _ -> raise Unimplemented"
   ]
  },
  {
   "cell_type": "code",
   "execution_count": 32,
   "metadata": {
    "scrolled": true
   },
   "outputs": [
    {
     "data": {
      "text/plain": [
       "- : (typ * ctx) result = Value (Loli (TUnit, TUnit), [])\n"
      ]
     },
     "execution_count": 32,
     "metadata": {},
     "output_type": "execute_result"
    }
   ],
   "source": [
    "infer (Annot(Lambda(\"x\", Var \"x\"), Loli(TUnit, TUnit))) []"
   ]
  },
  {
   "cell_type": "code",
   "execution_count": 33,
   "metadata": {
    "scrolled": true
   },
   "outputs": [
    {
     "data": {
      "text/plain": [
       "- : (unit * ctx) result =\n",
       "Error \"Multiple usages of variable x1 in linear context\"\n"
      ]
     },
     "execution_count": 33,
     "metadata": {},
     "output_type": "execute_result"
    }
   ],
   "source": [
    "check (Unpair(\"x1\", \"x2\", Annot(Pair(Lambda(\"x\", Var \"x\"), EUnit), Tensor(Loli(TUnit, TUnit), TUnit)),\n",
    "                          App(Var \"x1\", Var \"x2\"))) TUnit []"
   ]
  },
  {
   "cell_type": "code",
   "execution_count": 34,
   "metadata": {},
   "outputs": [
    {
     "data": {
      "text/plain": [
       "- : (typ * ctx) result = Value (Loli (TUnit, TUnit), [])\n"
      ]
     },
     "execution_count": 34,
     "metadata": {},
     "output_type": "execute_result"
    }
   ],
   "source": [
    "typecheck (Annot(Lambda(\"x\", Var \"x\"), Loli(TUnit, TUnit))) []"
   ]
  },
  {
   "cell_type": "code",
   "execution_count": 35,
   "metadata": {},
   "outputs": [
    {
     "data": {
      "text/plain": [
       "val checker : typ t = <fun>\n"
      ]
     },
     "execution_count": 35,
     "metadata": {},
     "output_type": "execute_result"
    }
   ],
   "source": [
    "let checker = typecheck (App(Annot(Lambda(\"x\", Var \"x\"), Loli(TUnit, TUnit)), Var \"y\"))"
   ]
  },
  {
   "cell_type": "code",
   "execution_count": 36,
   "metadata": {},
   "outputs": [
    {
     "data": {
      "text/plain": [
       "- : (typ * ctx) result = Error \"Can't type check (λx.x: (1⊸1)) with 1\"\n"
      ]
     },
     "execution_count": 36,
     "metadata": {},
     "output_type": "execute_result"
    }
   ],
   "source": [
    "checker [fresh \"y\" TUnit; fresh \"z\" TUnit]"
   ]
  },
  {
   "cell_type": "code",
   "execution_count": 37,
   "metadata": {
    "scrolled": true
   },
   "outputs": [
    {
     "data": {
      "text/plain": [
       "val c : state list =\n",
       "  [{var = \"x\"; used = Used; typ = TUnit};\n",
       "   {var = \"y\"; used = Fresh; typ = TUnit}]\n"
      ]
     },
     "execution_count": 37,
     "metadata": {},
     "output_type": "execute_result"
    },
    {
     "data": {
      "text/plain": [
       "- : (typ * ctx) result =\n",
       "Value\n",
       " (TUnit,\n",
       "  [{var = \"x\"; used = Used; typ = TUnit};\n",
       "   {var = \"y\"; used = Used; typ = TUnit}])\n"
      ]
     },
     "execution_count": 37,
     "metadata": {},
     "output_type": "execute_result"
    }
   ],
   "source": [
    "let c =\n",
    "    let x1 = mkstate \"x\" Used TUnit in \n",
    "    let x2 = mkstate \"y\" Fresh TUnit in\n",
    "[x1; x2];;\n",
    "\n",
    "typecheck (Annot (Var \"y\", TUnit)) c;;"
   ]
  },
  {
   "cell_type": "code",
   "execution_count": 38,
   "metadata": {},
   "outputs": [
    {
     "data": {
      "text/plain": [
       "- : bool = false\n"
      ]
     },
     "execution_count": 38,
     "metadata": {},
     "output_type": "execute_result"
    }
   ],
   "source": [
    "empty c"
   ]
  }
 ],
 "metadata": {
  "kernelspec": {
   "display_name": "OCaml s",
   "language": "OCaml",
   "name": "ocaml-jupyter-s"
  },
  "language_info": {
   "codemirror_mode": "text/x-ocaml",
   "file_extension": ".ml",
   "mimetype": "text/x-ocaml",
   "name": "OCaml",
   "nbconverter_exporter": null,
   "pygments_lexer": "OCaml",
   "version": "4.14.0"
  }
 },
 "nbformat": 4,
 "nbformat_minor": 4
}
