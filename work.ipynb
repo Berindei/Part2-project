{
 "cells": [
  {
   "cell_type": "code",
   "execution_count": 104,
   "metadata": {
    "scrolled": true
   },
   "outputs": [
    {
     "data": {
      "text/plain": [
       "exception Unimplemented\n"
      ]
     },
     "execution_count": 104,
     "metadata": {},
     "output_type": "execute_result"
    }
   ],
   "source": [
    "exception Unimplemented"
   ]
  },
  {
   "cell_type": "code",
   "execution_count": 105,
   "metadata": {},
   "outputs": [
    {
     "data": {
      "text/plain": [
       "exception UnexpectedError\n"
      ]
     },
     "execution_count": 105,
     "metadata": {},
     "output_type": "execute_result"
    }
   ],
   "source": [
    "exception UnexpectedError"
   ]
  },
  {
   "cell_type": "code",
   "execution_count": 106,
   "metadata": {
    "scrolled": true
   },
   "outputs": [
    {
     "data": {
      "text/plain": [
       "type var = string\n"
      ]
     },
     "execution_count": 106,
     "metadata": {},
     "output_type": "execute_result"
    }
   ],
   "source": [
    "type var = string"
   ]
  },
  {
   "cell_type": "code",
   "execution_count": 107,
   "metadata": {},
   "outputs": [
    {
     "data": {
      "text/plain": [
       "val fstring : ('a, unit, string) format -> 'a = <fun>\n"
      ]
     },
     "execution_count": 107,
     "metadata": {},
     "output_type": "execute_result"
    }
   ],
   "source": [
    "let fstring = Printf.sprintf"
   ]
  },
  {
   "cell_type": "code",
   "execution_count": 108,
   "metadata": {},
   "outputs": [
    {
     "data": {
      "text/plain": [
       "type typ = TUnit | Loli of typ * typ | Tensor of typ * typ | Sum of typ * typ\n"
      ]
     },
     "execution_count": 108,
     "metadata": {},
     "output_type": "execute_result"
    }
   ],
   "source": [
    "type typ = \n",
    "    | TUnit\n",
    "    | Loli   of typ * typ\n",
    "    | Tensor of typ * typ\n",
    "    | Sum    of typ * typ"
   ]
  },
  {
   "cell_type": "code",
   "execution_count": 109,
   "metadata": {},
   "outputs": [
    {
     "data": {
      "text/plain": [
       "val printtype : typ -> string = <fun>\n"
      ]
     },
     "execution_count": 109,
     "metadata": {},
     "output_type": "execute_result"
    },
    {
     "data": {
      "text/plain": [
       "- : string = \"((1⊗1)⊸1)\"\n"
      ]
     },
     "execution_count": 109,
     "metadata": {},
     "output_type": "execute_result"
    }
   ],
   "source": [
    "let rec printtype t = \n",
    "    match t with\n",
    "    | TUnit           -> \"1\"\n",
    "    | Loli (t1, t2)   -> fstring \"(%s⊸%s)\" (printtype t1) (printtype t2)\n",
    "    | Tensor (t1, t2) -> fstring \"(%s⊗%s)\" (printtype t1) (printtype t2)\n",
    "    | Sum (t1, t2)    -> fstring \"(%s+%s)\" (printtype t1) (printtype t2);;\n",
    "    \n",
    "printtype (Loli(Tensor(TUnit, TUnit), TUnit))"
   ]
  },
  {
   "cell_type": "code",
   "execution_count": 110,
   "metadata": {},
   "outputs": [
    {
     "data": {
      "text/plain": [
       "type expr =\n",
       "    EUnit\n",
       "  | Var of var\n",
       "  | Lambda of var * expr\n",
       "  | App of expr * expr\n",
       "  | Pair of expr * expr\n",
       "  | Unpair of var * var * expr * expr\n",
       "  | Annot of expr * typ\n",
       "  | L of expr\n",
       "  | R of expr\n",
       "  | Case of expr * var * expr * var * expr\n"
      ]
     },
     "execution_count": 110,
     "metadata": {},
     "output_type": "execute_result"
    }
   ],
   "source": [
    "type expr = \n",
    "    | EUnit\n",
    "    | Var    of var\n",
    "    | Lambda of var * expr\n",
    "    | App    of expr * expr\n",
    "    | Pair   of expr * expr\n",
    "    | Unpair of var * var * expr * expr\n",
    "    | Annot  of expr * typ\n",
    "    | L      of expr\n",
    "    | R      of expr\n",
    "    | Case   of expr * var * expr * var * expr"
   ]
  },
  {
   "cell_type": "code",
   "execution_count": 111,
   "metadata": {},
   "outputs": [
    {
     "data": {
      "text/plain": [
       "val printexpr : expr -> var = <fun>\n"
      ]
     },
     "execution_count": 111,
     "metadata": {},
     "output_type": "execute_result"
    },
    {
     "data": {
      "text/plain": [
       "- : var = \"let (x1,x2) = (λx.x, y) in (x1)(x2)\"\n"
      ]
     },
     "execution_count": 111,
     "metadata": {},
     "output_type": "execute_result"
    }
   ],
   "source": [
    "let rec printexpr e =\n",
    "    match e with\n",
    "    | EUnit -> \"()\"\n",
    "    | Var x -> x\n",
    "    | Lambda (x, e')            -> fstring \"λ%s.%s\" x (printexpr e')\n",
    "    | App (e1, e2)              -> fstring \"(%s)(%s)\" (printexpr e1) (printexpr e2)\n",
    "    | Pair (e1, e2)             -> fstring \"(%s, %s)\" (printexpr e1) (printexpr e2)\n",
    "    | Unpair (x1, x2, e1, e2)   -> fstring \"let (%s,%s) = %s in %s\" x1 x2 (printexpr e1) (printexpr e2)\n",
    "    | Annot (e', t)             -> fstring \"(%s: %s)\" (printexpr e') (printtype t)\n",
    "    | L e'                      -> fstring \"L(%s)\" (printexpr e')\n",
    "    | R e'                      -> fstring \"R(%s)\" (printexpr e')\n",
    "    | Case (e', x1, e1, x2, e2) -> fstring \"case(%s, L(%s)->%s, R(%s)->%s)\" (printexpr e') x1 (printexpr e1) x2 (printexpr e2);;\n",
    "    \n",
    "printexpr (Unpair(\"x1\", \"x2\", Pair(Lambda(\"x\", Var \"x\"), Var \"y\"), App(Var \"x1\", Var \"x2\")))"
   ]
  },
  {
   "cell_type": "code",
   "execution_count": 112,
   "metadata": {
    "scrolled": true
   },
   "outputs": [
    {
     "data": {
      "text/plain": [
       "type usage = Used | Fresh\n"
      ]
     },
     "execution_count": 112,
     "metadata": {},
     "output_type": "execute_result"
    },
    {
     "data": {
      "text/plain": [
       "type state = { var : var; used : usage; typ : typ; }\n"
      ]
     },
     "execution_count": 112,
     "metadata": {},
     "output_type": "execute_result"
    },
    {
     "data": {
      "text/plain": [
       "val mkstate : var -> usage -> typ -> state = <fun>\n"
      ]
     },
     "execution_count": 112,
     "metadata": {},
     "output_type": "execute_result"
    },
    {
     "data": {
      "text/plain": [
       "val fresh : var -> typ -> state = <fun>\n"
      ]
     },
     "execution_count": 112,
     "metadata": {},
     "output_type": "execute_result"
    },
    {
     "data": {
      "text/plain": [
       "type ctx = state list\n"
      ]
     },
     "execution_count": 112,
     "metadata": {},
     "output_type": "execute_result"
    }
   ],
   "source": [
    "type usage = Used | Fresh\n",
    "type state = {var: var; used: usage; typ: typ}\n",
    "\n",
    "let mkstate v u t = {var=v; used=u; typ=t}\n",
    "let fresh v t = mkstate v Fresh t\n",
    "\n",
    "type ctx = state list"
   ]
  },
  {
   "cell_type": "code",
   "execution_count": 113,
   "metadata": {},
   "outputs": [
    {
     "data": {
      "text/plain": [
       "type errorinfo = string\n"
      ]
     },
     "execution_count": 113,
     "metadata": {},
     "output_type": "execute_result"
    },
    {
     "data": {
      "text/plain": [
       "type 'a result = Value of 'a | Error of errorinfo\n"
      ]
     },
     "execution_count": 113,
     "metadata": {},
     "output_type": "execute_result"
    }
   ],
   "source": [
    "type errorinfo = string\n",
    "\n",
    "type 'a result = Value of 'a | Error of errorinfo"
   ]
  },
  {
   "cell_type": "code",
   "execution_count": 114,
   "metadata": {},
   "outputs": [
    {
     "data": {
      "text/plain": [
       "type 'a t = ctx -> ('a * ctx) result\n"
      ]
     },
     "execution_count": 114,
     "metadata": {},
     "output_type": "execute_result"
    },
    {
     "data": {
      "text/plain": [
       "val return : 'a -> 'a t = <fun>\n"
      ]
     },
     "execution_count": 114,
     "metadata": {},
     "output_type": "execute_result"
    },
    {
     "data": {
      "text/plain": [
       "val bind : 'a t -> ('a -> 'b t) -> 'b t = <fun>\n"
      ]
     },
     "execution_count": 114,
     "metadata": {},
     "output_type": "execute_result"
    },
    {
     "data": {
      "text/plain": [
       "val ( >>= ) : 'a t -> ('a -> 'b t) -> 'b t = <fun>\n"
      ]
     },
     "execution_count": 114,
     "metadata": {},
     "output_type": "execute_result"
    }
   ],
   "source": [
    "type 'a t = ctx -> ('a * ctx) result\n",
    "\n",
    "let return (x: 'a) : 'a t = fun (state: ctx) -> Value(x, state)\n",
    "\n",
    "let bind (x: 'a t) (f: 'a -> 'b t) : 'b t = fun (state: ctx) ->\n",
    "    match x state with\n",
    "    | Value (y, s) -> f y s\n",
    "    | Error e -> Error e\n",
    "    \n",
    "let (>>=) = bind"
   ]
  },
  {
   "cell_type": "code",
   "execution_count": 116,
   "metadata": {},
   "outputs": [
    {
     "data": {
      "text/plain": [
       "val c : state list =\n",
       "  [{var = \"x\"; used = Fresh; typ = TUnit};\n",
       "   {var = \"y\"; used = Used; typ = TUnit}]\n"
      ]
     },
     "execution_count": 116,
     "metadata": {},
     "output_type": "execute_result"
    }
   ],
   "source": [
    "let c = \n",
    "    let x1 = mkstate \"x\" Fresh TUnit in\n",
    "    let x2 = mkstate \"y\" Used TUnit in\n",
    "    [x1; x2]"
   ]
  },
  {
   "cell_type": "code",
   "execution_count": 117,
   "metadata": {
    "scrolled": true
   },
   "outputs": [
    {
     "ename": "error",
     "evalue": "compile_error",
     "output_type": "error",
     "traceback": [
      "File \"[117]\", line 1, characters 11-12:\n1 | lookup \"z\" c\n               ^\nError: This expression has type state/1 list\n       but an expression was expected of type ctx/2 = state/2 list\n       Type state/1 is not compatible with type state/2 \n       File \"[112]\", line 7, characters 0-21:\n         Definition of type ctx/1\n       File \"[14]\", line 7, characters 0-21:\n         Definition of type ctx/2\n       File \"[112]\", line 2, characters 0-46:\n         Definition of type state/1\n       File \"[14]\", line 2, characters 0-46:\n         Definition of type state/2\n"
     ]
    }
   ],
   "source": [
    "lookup \"z\" c"
   ]
  },
  {
   "cell_type": "code",
   "execution_count": 118,
   "metadata": {},
   "outputs": [
    {
     "data": {
      "text/plain": [
       "val empty : ctx -> bool = <fun>\n"
      ]
     },
     "execution_count": 118,
     "metadata": {},
     "output_type": "execute_result"
    }
   ],
   "source": [
    "let rec empty (ctx: ctx) : bool =\n",
    "    match ctx with\n",
    "    | []                         -> true\n",
    "    | x :: xs when x.used = Used -> empty xs\n",
    "    | _                          -> false"
   ]
  },
  {
   "cell_type": "code",
   "execution_count": 119,
   "metadata": {},
   "outputs": [
    {
     "data": {
      "text/plain": [
       "val lookup : var -> state t = <fun>\n"
      ]
     },
     "execution_count": 119,
     "metadata": {},
     "output_type": "execute_result"
    },
    {
     "data": {
      "text/plain": [
       "val lookup_update : var -> state t = <fun>\n"
      ]
     },
     "execution_count": 119,
     "metadata": {},
     "output_type": "execute_result"
    }
   ],
   "source": [
    "let rec lookup: var -> state t = fun (x: var) -> fun (ctx: ctx) ->\n",
    "    match ctx with\n",
    "    | []                     -> Error (fstring \"Variable %s not in context\" x)\n",
    "    | y :: ys when x = y.var -> Value (y, y :: ys)\n",
    "    | y :: ys                -> (lookup x >>= (fun s -> fun ctx' -> Value(s, y :: ctx'))) ys\n",
    "\n",
    "let rec lookup_update: var -> state t = fun (x: var) -> fun (ctx: ctx) ->\n",
    "    match ctx with\n",
    "    | []                     -> Error (fstring \"Variable %s not in context\" x)\n",
    "    | y :: ys when x = y.var -> Value (y, {y with used=Used} :: ys)\n",
    "    | y :: ys                -> (lookup_update x >>= (fun s -> fun ctx' -> Value(s, y :: ctx'))) ys"
   ]
  },
  {
   "cell_type": "code",
   "execution_count": 120,
   "metadata": {},
   "outputs": [
    {
     "data": {
      "text/plain": [
       "val c : state list =\n",
       "  [{var = \"x\"; used = Used; typ = TUnit};\n",
       "   {var = \"y\"; used = Fresh; typ = TUnit}]\n"
      ]
     },
     "execution_count": 120,
     "metadata": {},
     "output_type": "execute_result"
    },
    {
     "data": {
      "text/plain": [
       "- : (state * ctx) result =\n",
       "Value\n",
       " ({var = \"y\"; used = Fresh; typ = TUnit},\n",
       "  [{var = \"x\"; used = Used; typ = TUnit};\n",
       "   {var = \"y\"; used = Used; typ = TUnit}])\n"
      ]
     },
     "execution_count": 120,
     "metadata": {},
     "output_type": "execute_result"
    }
   ],
   "source": [
    "let c =\n",
    "    let x1 = mkstate \"x\" Used TUnit in \n",
    "    let x2 = mkstate \"y\" Fresh TUnit in\n",
    "[x1; x2];;\n",
    "    \n",
    "lookup_update \"y\" c"
   ]
  },
  {
   "cell_type": "code",
   "execution_count": 121,
   "metadata": {},
   "outputs": [
    {
     "data": {
      "text/plain": [
       "val rm : 'a list -> 'a -> 'a list = <fun>\n"
      ]
     },
     "execution_count": 121,
     "metadata": {},
     "output_type": "execute_result"
    }
   ],
   "source": [
    "let rec rm l v =\n",
    "    match l with\n",
    "    | x :: xs when v=x -> xs\n",
    "    | x :: xs          -> x :: (rm xs v)\n",
    "    | []               -> raise UnexpectedError"
   ]
  },
  {
   "cell_type": "code",
   "execution_count": 122,
   "metadata": {},
   "outputs": [
    {
     "data": {
      "text/plain": [
       "val find : 'a list -> 'a -> bool = <fun>\n"
      ]
     },
     "execution_count": 122,
     "metadata": {},
     "output_type": "execute_result"
    }
   ],
   "source": [
    "let rec find l v = \n",
    "    match l with\n",
    "    | x :: xs when v=x -> true\n",
    "    | x :: xs          -> find xs v\n",
    "    | []               -> false"
   ]
  },
  {
   "cell_type": "code",
   "execution_count": 123,
   "metadata": {},
   "outputs": [
    {
     "data": {
      "text/plain": [
       "val same : ctx -> ctx -> bool = <fun>\n"
      ]
     },
     "execution_count": 123,
     "metadata": {},
     "output_type": "execute_result"
    }
   ],
   "source": [
    "let rec same (ctx1: ctx) (ctx2: ctx) : bool = \n",
    "    match ctx1, ctx2 with\n",
    "    | s :: ss, _ -> if find ctx2 s then same ss (rm ctx2 s)\n",
    "                                   else false\n",
    "    | [], []     -> true\n",
    "    | [], _      -> false"
   ]
  },
  {
   "cell_type": "code",
   "execution_count": 137,
   "metadata": {},
   "outputs": [
    {
     "name": "stderr",
     "output_type": "stream",
     "text": [
      "File \"[137]\", lines 11-19, characters 51-89:\n",
      "11 | ...................................................(fun (Tensor(t1, t2): typ) ->\n",
      "12 |                                      fun (ctx: ctx) -> ((fresh x1 t1) :: (fresh x2 t2) :: ctx) |> ((check e2 t) >>= (fun () ->\n",
      "13 |                                      fun (ctx': ctx) -> (match (lookup x1 ctx'), (lookup x2 ctx') with\n",
      "14 |                                                          | Value (s1, _), Value (s2, _) -> (match s1.used, s2. used with\n",
      "15 |                                                                                             | Used, Used -> Value ((), ctx)\n",
      "16 |                                                                                             | Fresh, Used -> Error (fstring \"Variable %s not used in the body of %s\" x1 (printexpr e))\n",
      "17 |                                                                                             | Used, Fresh -> Error (fstring \"Variable %s not used in the body of %s\" x2 (printexpr e))\n",
      "18 |                                                                                             | Fresh, Fresh -> Error (fstring \"Variables %s and %s not used in the body of %s\" x1 x2 (printexpr e)))\n",
      "19 |                                                          | _ -> raise UnexpectedError))))\n",
      "Warning 8 [partial-match]: this pattern-matching is not exhaustive.\n",
      "Here is an example of a case that is not matched:\n",
      "(TUnit|Loli (_, _)|Sum (_, _))\n",
      "File \"[137]\", lines 22-35, characters 53-63:\n",
      "22 | .....................................................(fun (Sum(t1, t2):typ) -> fun (ctx: ctx) ->\n",
      "23 |                                        let r1 = (fresh x1 t1 :: ctx) |> check e1 t in\n",
      "24 |                                        let r2 = (fresh x2 t2 :: ctx) |> check e2 t in\n",
      "25 |                                        match r1, r2 with\n",
      "26 |                                        | Value ((), ctx1), Value ((), ctx2) -> (match (lookup x1 ctx1), (lookup x2 ctx2) with\n",
      "...\n",
      "32 |                                                                                                                  | Fresh, Fresh -> Error (fstring \"Variables %s and %s not used in L and R cases of %s\" x1 x2 (printexpr e)))\n",
      "33 |                                                                                | _ -> raise UnexpectedError)\n",
      "34 |                                        | Error e, _ -> Error e\n",
      "35 |                                        | _, Error e -> Error e)\n",
      "Warning 8 [partial-match]: this pattern-matching is not exhaustive.\n",
      "Here is an example of a case that is not matched:\n",
      "(TUnit|Loli (_, _)|Tensor (_, _))\n",
      "File \"[137]\", lines 44-45, characters 37-68:\n",
      "44 | .....................................(fun (Loli(t1, t2): typ) -> \n",
      "45 |                        check e2 t1 >>= (fun (_: unit) -> return t2))\n",
      "Warning 8 [partial-match]: this pattern-matching is not exhaustive.\n",
      "Here is an example of a case that is not matched:\n",
      "(TUnit|Tensor (_, _)|Sum (_, _))\n"
     ]
    },
    {
     "data": {
      "text/plain": [
       "val check : expr -> typ -> unit t = <fun>\n",
       "val infer : expr -> typ t = <fun>\n"
      ]
     },
     "execution_count": 137,
     "metadata": {},
     "output_type": "execute_result"
    }
   ],
   "source": [
    "let rec check (e: expr) (t: typ) : unit t = \n",
    "    match e, t with\n",
    "    | EUnit, TUnit -> fun (ctx: ctx) -> if empty ctx then Value ((), ctx) (*TODO no empty*)\n",
    "                                        else Error \"Non empty context for unit expression\"\n",
    "    | Lambda (x, e'), Loli (t1, t2) -> fun (ctx: ctx) -> (fresh x t1 :: ctx) |> ((check e' t2) >>= (fun (_: unit) -> fun (ctx': ctx) -> (match lookup x ctx' with \n",
    "                                                                                                                                         | Value(s, _) -> (match s.used with\n",
    "                                                                                                                                                           | Used -> Value((), ctx)\n",
    "                                                                                                                                                           | Fresh -> Error (fstring \"Variable %s not used in function %s\" x (printexpr e)))\n",
    "                                                                                                                                         | Error _     -> raise UnexpectedError))) \n",
    "    | Pair (e1, e2), Tensor (t1, t2) -> (check e1 t1) >>= (fun () -> check e2 t2)\n",
    "    | Unpair (x1, x2, e1, e2), _ -> (infer e1) >>= (fun (Tensor(t1, t2): typ) ->\n",
    "                                     fun (ctx: ctx) -> ((fresh x1 t1) :: (fresh x2 t2) :: ctx) |> ((check e2 t) >>= (fun () ->\n",
    "                                     fun (ctx': ctx) -> (match (lookup x1 ctx'), (lookup x2 ctx') with\n",
    "                                                         | Value (s1, _), Value (s2, _) -> (match s1.used, s2. used with\n",
    "                                                                                            | Used, Used -> Value ((), ctx)\n",
    "                                                                                            | Fresh, Used -> Error (fstring \"Variable %s not used in the body of %s\" x1 (printexpr e))\n",
    "                                                                                            | Used, Fresh -> Error (fstring \"Variable %s not used in the body of %s\" x2 (printexpr e))\n",
    "                                                                                            | Fresh, Fresh -> Error (fstring \"Variables %s and %s not used in the body of %s\" x1 x2 (printexpr e)))\n",
    "                                                         | _ -> raise UnexpectedError))))\n",
    "    | L(e'), Sum(t1, t2) -> check e' t1\n",
    "    | R(e'), Sum(t1, t2) -> check e' t2\n",
    "    | Case (e', x1, e1, x2, e2), _ -> (infer e') >>= (fun (Sum(t1, t2):typ) -> fun (ctx: ctx) ->\n",
    "                                       let r1 = (fresh x1 t1 :: ctx) |> check e1 t in\n",
    "                                       let r2 = (fresh x2 t2 :: ctx) |> check e2 t in\n",
    "                                       match r1, r2 with\n",
    "                                       | Value ((), ctx1), Value ((), ctx2) -> (match (lookup x1 ctx1), (lookup x2 ctx2) with\n",
    "                                                                               | Value (s1, _), Value (s2, _) -> (match s1.used, s2.used with\n",
    "                                                                                                                 | Used, Used -> if same (rm ctx1 s1) (rm ctx2 s2) then Value((), ctx) (*no need for rm, make same return a diff*)\n",
    "                                                                                                                                                                   else Error (fstring \"Different resulting contexts for the cases of %s\" (printexpr e))\n",
    "                                                                                                                 | Fresh, Used -> Error (fstring \"Variable %s not used in L case of %s\" x1 (printexpr e))\n",
    "                                                                                                                 | Used, Fresh -> Error (fstring \"Variable %s not used in R case of %s\" x2 (printexpr e))\n",
    "                                                                                                                 | Fresh, Fresh -> Error (fstring \"Variables %s and %s not used in L and R cases of %s\" x1 x2 (printexpr e)))\n",
    "                                                                               | _ -> raise UnexpectedError)\n",
    "                                       | Error e, _ -> Error e\n",
    "                                       | _, Error e -> Error e)\n",
    "                                       \n",
    "    | _, _ -> ((infer e) >>= (fun t'-> fun ctx' -> if t=t' then Value ((), ctx') else Error \"Can't typecheck\"))\n",
    "and infer (e: expr) : typ t =\n",
    "    match e with \n",
    "    | Var x -> (lookup_update x) >>= (fun (y:state) -> fun (ctx: ctx) -> match y.used with\n",
    "                                                                         | Fresh -> Value (y.typ, ctx)\n",
    "                                                                         | Used  -> Error (fstring \"Multiple usages of variable %s in linear context\" x))\n",
    "    | Annot (e', t) -> (check e' t) >>= (fun (_: unit) -> return t)\n",
    "    | App (e1, e2) -> (infer e1) >>= (fun (Loli(t1, t2): typ) -> \n",
    "                       check e2 t1 >>= (fun (_: unit) -> return t2))\n",
    "    | _ -> raise Unimplemented"
   ]
  },
  {
   "cell_type": "code",
   "execution_count": null,
   "metadata": {},
   "outputs": [],
   "source": []
  },
  {
   "cell_type": "code",
   "execution_count": 125,
   "metadata": {},
   "outputs": [
    {
     "data": {
      "text/plain": [
       "val typecheck : expr -> typ t = <fun>\n"
      ]
     },
     "execution_count": 125,
     "metadata": {},
     "output_type": "execute_result"
    }
   ],
   "source": [
    "let typecheck (e: expr): typ t = \n",
    "    match e with\n",
    "    | EUnit          -> (check e TUnit) >>= (fun (_: unit) -> return TUnit)\n",
    "    | Var x          -> infer e\n",
    "    | Annot (e', t)  -> infer e\n",
    "    | App (e1, e2)   -> infer e\n",
    "    | _ -> raise Unimplemented"
   ]
  },
  {
   "cell_type": "code",
   "execution_count": 126,
   "metadata": {},
   "outputs": [
    {
     "data": {
      "text/plain": [
       "- : (typ * ctx) result = Value (Loli (TUnit, TUnit), [])\n"
      ]
     },
     "execution_count": 126,
     "metadata": {},
     "output_type": "execute_result"
    }
   ],
   "source": [
    "typecheck (Annot(Lambda(\"x\", Var \"x\"), Loli(TUnit, TUnit))) []"
   ]
  },
  {
   "cell_type": "code",
   "execution_count": 127,
   "metadata": {},
   "outputs": [
    {
     "data": {
      "text/plain": [
       "val checker : typ t = <fun>\n"
      ]
     },
     "execution_count": 127,
     "metadata": {},
     "output_type": "execute_result"
    }
   ],
   "source": [
    "let checker = typecheck (App(Annot(Lambda(\"x\", Var \"x\"), Loli(TUnit, TUnit)), Var \"y\"))"
   ]
  },
  {
   "cell_type": "code",
   "execution_count": 128,
   "metadata": {},
   "outputs": [
    {
     "data": {
      "text/plain": [
       "- : (typ * ctx) result =\n",
       "Value\n",
       " (TUnit,\n",
       "  [{var = \"y\"; used = Used; typ = TUnit};\n",
       "   {var = \"z\"; used = Fresh; typ = TUnit}])\n"
      ]
     },
     "execution_count": 128,
     "metadata": {},
     "output_type": "execute_result"
    }
   ],
   "source": [
    "checker [fresh \"y\" TUnit; fresh \"z\" TUnit]"
   ]
  },
  {
   "cell_type": "code",
   "execution_count": 129,
   "metadata": {
    "scrolled": true
   },
   "outputs": [
    {
     "data": {
      "text/plain": [
       "val c : state list =\n",
       "  [{var = \"x\"; used = Used; typ = TUnit};\n",
       "   {var = \"y\"; used = Fresh; typ = TUnit}]\n"
      ]
     },
     "execution_count": 129,
     "metadata": {},
     "output_type": "execute_result"
    },
    {
     "data": {
      "text/plain": [
       "- : (typ * ctx) result =\n",
       "Value\n",
       " (TUnit,\n",
       "  [{var = \"x\"; used = Used; typ = TUnit};\n",
       "   {var = \"y\"; used = Used; typ = TUnit}])\n"
      ]
     },
     "execution_count": 129,
     "metadata": {},
     "output_type": "execute_result"
    }
   ],
   "source": [
    "let c =\n",
    "    let x1 = mkstate \"x\" Used TUnit in \n",
    "    let x2 = mkstate \"y\" Fresh TUnit in\n",
    "[x1; x2];;\n",
    "\n",
    "typecheck (Annot (Var \"y\", TUnit)) c;;"
   ]
  },
  {
   "cell_type": "code",
   "execution_count": 130,
   "metadata": {},
   "outputs": [
    {
     "data": {
      "text/plain": [
       "- : bool = false\n"
      ]
     },
     "execution_count": 130,
     "metadata": {},
     "output_type": "execute_result"
    }
   ],
   "source": [
    "empty c"
   ]
  }
 ],
 "metadata": {
  "kernelspec": {
   "display_name": "OCaml s",
   "language": "OCaml",
   "name": "ocaml-jupyter-s"
  },
  "language_info": {
   "codemirror_mode": "text/x-ocaml",
   "file_extension": ".ml",
   "mimetype": "text/x-ocaml",
   "name": "OCaml",
   "nbconverter_exporter": null,
   "pygments_lexer": "OCaml",
   "version": "4.14.0"
  }
 },
 "nbformat": 4,
 "nbformat_minor": 4
}
