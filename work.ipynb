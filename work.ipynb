{
 "cells": [
  {
   "cell_type": "code",
   "execution_count": 1,
   "metadata": {
    "scrolled": true
   },
   "outputs": [
    {
     "data": {
      "text/plain": [
       "exception Unimplemented\n"
      ]
     },
     "execution_count": 1,
     "metadata": {},
     "output_type": "execute_result"
    }
   ],
   "source": [
    "exception Unimplemented"
   ]
  },
  {
   "cell_type": "code",
   "execution_count": 2,
   "metadata": {},
   "outputs": [
    {
     "data": {
      "text/plain": [
       "exception UnexpectedError\n"
      ]
     },
     "execution_count": 2,
     "metadata": {},
     "output_type": "execute_result"
    }
   ],
   "source": [
    "exception UnexpectedError"
   ]
  },
  {
   "cell_type": "code",
   "execution_count": 3,
   "metadata": {
    "scrolled": true
   },
   "outputs": [
    {
     "data": {
      "text/plain": [
       "type var = string\n"
      ]
     },
     "execution_count": 3,
     "metadata": {},
     "output_type": "execute_result"
    }
   ],
   "source": [
    "type var = string"
   ]
  },
  {
   "cell_type": "code",
   "execution_count": 4,
   "metadata": {},
   "outputs": [
    {
     "data": {
      "text/plain": [
       "val fstring : ('a, unit, string) format -> 'a = <fun>\n"
      ]
     },
     "execution_count": 4,
     "metadata": {},
     "output_type": "execute_result"
    }
   ],
   "source": [
    "let fstring = Printf.sprintf"
   ]
  },
  {
   "cell_type": "code",
   "execution_count": 5,
   "metadata": {},
   "outputs": [
    {
     "data": {
      "text/plain": [
       "type typ =\n",
       "    LUnit\n",
       "  | Loli of typ * typ\n",
       "  | Tensor of typ * typ\n",
       "  | LSum of typ * typ\n",
       "  | F of typ\n",
       "  | IUnit\n",
       "  | Arrow of typ * typ\n",
       "  | Prod of typ * typ\n",
       "  | ISum of typ * typ\n",
       "  | G of typ\n"
      ]
     },
     "execution_count": 5,
     "metadata": {},
     "output_type": "execute_result"
    }
   ],
   "source": [
    "type typ = \n",
    "    | LUnit\n",
    "    | Loli   of typ * typ\n",
    "    | Tensor of typ * typ\n",
    "    | LSum   of typ * typ\n",
    "    | F      of typ\n",
    "    | IUnit\n",
    "    | Arrow  of typ * typ\n",
    "    | Prod   of typ * typ\n",
    "    | ISum   of typ * typ\n",
    "    | G      of typ"
   ]
  },
  {
   "cell_type": "code",
   "execution_count": 6,
   "metadata": {},
   "outputs": [
    {
     "data": {
      "text/plain": [
       "val printtype : typ -> string = <fun>\n"
      ]
     },
     "execution_count": 6,
     "metadata": {},
     "output_type": "execute_result"
    },
    {
     "data": {
      "text/plain": [
       "- : string = \"G(((I⊗I)⊸I))\"\n"
      ]
     },
     "execution_count": 6,
     "metadata": {},
     "output_type": "execute_result"
    }
   ],
   "source": [
    "let rec printtype t = \n",
    "    match t with\n",
    "    | LUnit           -> \"I\"\n",
    "    | Loli (t1, t2)   -> fstring \"(%s⊸%s)\" (printtype t1) (printtype t2)\n",
    "    | Tensor (t1, t2) -> fstring \"(%s⊗%s)\" (printtype t1) (printtype t2)\n",
    "    | LSum (t1, t2)   -> fstring \"(%s⊕%s)\" (printtype t1) (printtype t2)\n",
    "    | F t'            -> fstring \"F(%s)\" (printtype t')\n",
    "    | IUnit           -> \"1\"\n",
    "    | Arrow (t1, t2)  -> fstring \"(%s→%s)\" (printtype t1) (printtype t2)\n",
    "    | Prod (t1, t2)   -> fstring \"(%s*%s)\" (printtype t1) (printtype t2)\n",
    "    | ISum (t1, t2)   -> fstring \"(%s+%s)\" (printtype t1) (printtype t2)\n",
    "    | G t'            -> fstring \"G(%s)\" (printtype t');;\n",
    "    \n",
    "printtype (G(Loli(Tensor(LUnit, LUnit), LUnit)))"
   ]
  },
  {
   "cell_type": "code",
   "execution_count": 7,
   "metadata": {},
   "outputs": [
    {
     "data": {
      "text/plain": [
       "type expr =\n",
       "    EUnit\n",
       "  | Var of var\n",
       "  | Lambda of var * expr\n",
       "  | App of expr * expr\n",
       "  | Pair of expr * expr\n",
       "  | Unpair of var * var * expr * expr\n",
       "  | Annot of expr * typ\n",
       "  | L of expr\n",
       "  | R of expr\n",
       "  | Case of expr * var * expr * var * expr\n",
       "  | Proj1 of expr\n",
       "  | Proj2 of expr\n",
       "  | EF of expr\n",
       "  | EG of expr\n",
       "  | Run of expr\n",
       "  | LetF of var * expr * expr\n"
      ]
     },
     "execution_count": 7,
     "metadata": {},
     "output_type": "execute_result"
    }
   ],
   "source": [
    "type expr = \n",
    "    | EUnit\n",
    "    | Var    of var\n",
    "    | Lambda of var * expr\n",
    "    | App    of expr * expr\n",
    "    | Pair   of expr * expr\n",
    "    | Unpair of var * var * expr * expr\n",
    "    | Annot  of expr * typ\n",
    "    | L      of expr\n",
    "    | R      of expr\n",
    "    | Case   of expr * var * expr * var * expr\n",
    "    | Proj1  of expr\n",
    "    | Proj2  of expr\n",
    "    | EF     of expr\n",
    "    | EG     of expr\n",
    "    | Run    of expr\n",
    "    | LetF   of var * expr * expr"
   ]
  },
  {
   "cell_type": "code",
   "execution_count": 8,
   "metadata": {},
   "outputs": [
    {
     "data": {
      "text/plain": [
       "val printexpr : expr -> var = <fun>\n"
      ]
     },
     "execution_count": 8,
     "metadata": {},
     "output_type": "execute_result"
    },
    {
     "data": {
      "text/plain": [
       "- : var = \"let (x1,x2) = (λx.x, y) in (x1)(x2)\"\n"
      ]
     },
     "execution_count": 8,
     "metadata": {},
     "output_type": "execute_result"
    }
   ],
   "source": [
    "let rec printexpr e =\n",
    "    match e with\n",
    "    | EUnit -> \"()\"\n",
    "    | Var x -> x\n",
    "    | Lambda (x, e')            -> fstring \"λ%s.%s\" x (printexpr e')\n",
    "    | App (e1, e2)              -> fstring \"(%s)(%s)\" (printexpr e1) (printexpr e2)\n",
    "    | Pair (e1, e2)             -> fstring \"(%s, %s)\" (printexpr e1) (printexpr e2)\n",
    "    | Unpair (x1, x2, e1, e2)   -> fstring \"let (%s,%s) = %s in %s\" x1 x2 (printexpr e1) (printexpr e2)\n",
    "    | Annot (e', t)             -> fstring \"(%s: %s)\" (printexpr e') (printtype t)\n",
    "    | L e'                      -> fstring \"L(%s)\" (printexpr e')\n",
    "    | R e'                      -> fstring \"R(%s)\" (printexpr e')\n",
    "    | Case (e', x1, e1, x2, e2) -> fstring \"case(%s, L(%s)->%s, R(%s)->%s)\" (printexpr e') x1 (printexpr e1) x2 (printexpr e2)\n",
    "    | Proj1 e'                  -> fstring \"π1(%s)\" (printexpr e')\n",
    "    | Proj2 e'                  -> fstring \"π2(%s)\" (printexpr e')\n",
    "    | EF e'                     -> fstring \"F(%s)\" (printexpr e')\n",
    "    | EG e'                     -> fstring \"G(%s)\" (printexpr e')\n",
    "    | Run e'                    -> fstring \"run(%s)\" (printexpr e')\n",
    "    | LetF (x, e1, e2)          -> fstring \"let F(%s) = %s in %s\" x (printexpr e1) (printexpr e2);;\n",
    "    \n",
    "printexpr (Unpair(\"x1\", \"x2\", Pair(Lambda(\"x\", Var \"x\"), Var \"y\"), App(Var \"x1\", Var \"x2\")))"
   ]
  },
  {
   "cell_type": "code",
   "execution_count": 9,
   "metadata": {
    "scrolled": false
   },
   "outputs": [
    {
     "data": {
      "text/plain": [
       "type usage = Used | Fresh | Inf\n"
      ]
     },
     "execution_count": 9,
     "metadata": {},
     "output_type": "execute_result"
    },
    {
     "data": {
      "text/plain": [
       "type state = { var : var; used : usage; typ : typ; }\n"
      ]
     },
     "execution_count": 9,
     "metadata": {},
     "output_type": "execute_result"
    },
    {
     "data": {
      "text/plain": [
       "val mkstate : var -> usage -> typ -> state = <fun>\n"
      ]
     },
     "execution_count": 9,
     "metadata": {},
     "output_type": "execute_result"
    },
    {
     "data": {
      "text/plain": [
       "val fresh : var -> typ -> state = <fun>\n"
      ]
     },
     "execution_count": 9,
     "metadata": {},
     "output_type": "execute_result"
    },
    {
     "data": {
      "text/plain": [
       "val int : var -> typ -> state = <fun>\n"
      ]
     },
     "execution_count": 9,
     "metadata": {},
     "output_type": "execute_result"
    },
    {
     "data": {
      "text/plain": [
       "type ctx = state list\n"
      ]
     },
     "execution_count": 9,
     "metadata": {},
     "output_type": "execute_result"
    }
   ],
   "source": [
    "type usage = Used | Fresh | Inf\n",
    "type state = {var: var; used: usage; typ: typ}\n",
    "\n",
    "let mkstate v u t = {var=v; used=u; typ=t}\n",
    "let fresh v t = mkstate v Fresh t\n",
    "let int v t = mkstate v Inf t\n",
    "\n",
    "type ctx = state list"
   ]
  },
  {
   "cell_type": "code",
   "execution_count": 10,
   "metadata": {},
   "outputs": [
    {
     "data": {
      "text/plain": [
       "val printusage : usage -> string = <fun>\n"
      ]
     },
     "execution_count": 10,
     "metadata": {},
     "output_type": "execute_result"
    }
   ],
   "source": [
    "let printusage u = match u with Fresh->\"1\"| Used->\"0\" | Inf->\"∞\""
   ]
  },
  {
   "cell_type": "code",
   "execution_count": 11,
   "metadata": {},
   "outputs": [
    {
     "data": {
      "text/plain": [
       "val printstate : state -> string = <fun>\n"
      ]
     },
     "execution_count": 11,
     "metadata": {},
     "output_type": "execute_result"
    }
   ],
   "source": [
    "let printstate s = fstring \"%s^%s: %s\" s.var (printusage s.used) (printtype s.typ) "
   ]
  },
  {
   "cell_type": "code",
   "execution_count": 12,
   "metadata": {},
   "outputs": [
    {
     "data": {
      "text/plain": [
       "val printctx : state list -> string = <fun>\n"
      ]
     },
     "execution_count": 12,
     "metadata": {},
     "output_type": "execute_result"
    }
   ],
   "source": [
    "let printctx c =\n",
    "    let rec loop c = \n",
    "        match c with\n",
    "        | []    -> \"\"\n",
    "        | [x]     -> printstate x\n",
    "        | x::xs -> fstring \"%s; %s\" (printstate x) (loop xs)\n",
    "    in fstring \"Γ = [%s]\" (loop c)"
   ]
  },
  {
   "cell_type": "code",
   "execution_count": 13,
   "metadata": {},
   "outputs": [
    {
     "name": "stdout",
     "output_type": "stream",
     "text": [
      "Γ = [x^1: I; y^1: (I⊸I)]\n"
     ]
    },
    {
     "data": {
      "text/plain": [
       "- : unit = ()\n"
      ]
     },
     "execution_count": 13,
     "metadata": {},
     "output_type": "execute_result"
    }
   ],
   "source": [
    "print_endline (printctx [fresh \"x\" LUnit; fresh \"y\" (Loli(LUnit, LUnit))]);;"
   ]
  },
  {
   "cell_type": "code",
   "execution_count": 14,
   "metadata": {},
   "outputs": [
    {
     "data": {
      "text/plain": [
       "type errorinfo = string\n"
      ]
     },
     "execution_count": 14,
     "metadata": {},
     "output_type": "execute_result"
    },
    {
     "data": {
      "text/plain": [
       "type 'a result = Value of 'a | Error of errorinfo\n"
      ]
     },
     "execution_count": 14,
     "metadata": {},
     "output_type": "execute_result"
    }
   ],
   "source": [
    "type errorinfo = string\n",
    "\n",
    "type 'a result = Value of 'a | Error of errorinfo"
   ]
  },
  {
   "cell_type": "code",
   "execution_count": 15,
   "metadata": {},
   "outputs": [
    {
     "data": {
      "text/plain": [
       "type 'a t = ctx -> ('a * ctx) result\n"
      ]
     },
     "execution_count": 15,
     "metadata": {},
     "output_type": "execute_result"
    },
    {
     "data": {
      "text/plain": [
       "val return : 'a -> 'a t = <fun>\n"
      ]
     },
     "execution_count": 15,
     "metadata": {},
     "output_type": "execute_result"
    },
    {
     "data": {
      "text/plain": [
       "val error : errorinfo -> 'a t = <fun>\n"
      ]
     },
     "execution_count": 15,
     "metadata": {},
     "output_type": "execute_result"
    },
    {
     "data": {
      "text/plain": [
       "val bind : 'a t -> ('a -> 'b t) -> 'b t = <fun>\n"
      ]
     },
     "execution_count": 15,
     "metadata": {},
     "output_type": "execute_result"
    },
    {
     "data": {
      "text/plain": [
       "val ( >>= ) : 'a t -> ('a -> 'b t) -> 'b t = <fun>\n"
      ]
     },
     "execution_count": 15,
     "metadata": {},
     "output_type": "execute_result"
    },
    {
     "data": {
      "text/plain": [
       "val ( >> ) : unit t -> 'a t -> 'a t = <fun>\n"
      ]
     },
     "execution_count": 15,
     "metadata": {},
     "output_type": "execute_result"
    },
    {
     "data": {
      "text/plain": [
       "val ( >>> ) : 'a t -> ('a -> 'b t) -> 'b t = <fun>\n"
      ]
     },
     "execution_count": 15,
     "metadata": {},
     "output_type": "execute_result"
    },
    {
     "data": {
      "text/plain": [
       "val ( let* ) : 'a t -> ('a -> 'b t) -> 'b t = <fun>\n"
      ]
     },
     "execution_count": 15,
     "metadata": {},
     "output_type": "execute_result"
    },
    {
     "data": {
      "text/plain": [
       "val get : ctx t = <fun>\n"
      ]
     },
     "execution_count": 15,
     "metadata": {},
     "output_type": "execute_result"
    },
    {
     "data": {
      "text/plain": [
       "val set : ctx -> unit t = <fun>\n"
      ]
     },
     "execution_count": 15,
     "metadata": {},
     "output_type": "execute_result"
    }
   ],
   "source": [
    "type 'a t = ctx -> ('a * ctx) result\n",
    "\n",
    "let return (x: 'a) : 'a t = fun (state: ctx) -> Value(x, state)\n",
    "\n",
    "let error (x: errorinfo) : 'a t = fun (_: ctx) -> Error x\n",
    "\n",
    "let bind (x: 'a t) (f: 'a -> 'b t) : 'b t = fun (state: ctx) ->\n",
    "    match x state with\n",
    "    | Value (y, s) -> f y s\n",
    "    | Error e -> Error e\n",
    "    \n",
    "let (>>=) = bind\n",
    "\n",
    "let (>>) f1 f2 = f1 >>= (fun () -> f2)\n",
    "\n",
    "let (>>>) f1 f2 = f1 >>= (fun x -> f2 x)\n",
    "\n",
    "let (let*) = bind\n",
    "\n",
    "let get: ctx t = fun (ctx: ctx) -> Value(ctx, ctx)\n",
    "\n",
    "let set: ctx -> unit t = fun (nctx: ctx) -> fun (ctx: ctx) -> Value ((), nctx)"
   ]
  },
  {
   "cell_type": "code",
   "execution_count": 16,
   "metadata": {},
   "outputs": [
    {
     "data": {
      "text/plain": [
       "val lookup : var -> state t = <fun>\n"
      ]
     },
     "execution_count": 16,
     "metadata": {},
     "output_type": "execute_result"
    },
    {
     "data": {
      "text/plain": [
       "val lookup_update : var -> state t = <fun>\n"
      ]
     },
     "execution_count": 16,
     "metadata": {},
     "output_type": "execute_result"
    }
   ],
   "source": [
    "let rec lookup: var -> state t = fun (x: var) -> fun (ctx: ctx) ->\n",
    "    match ctx with\n",
    "    | []                     -> Error (fstring \"Variable %s not in context\" x)\n",
    "    | y :: ys when x = y.var -> Value (y, y :: ys)\n",
    "    | y :: ys                -> (lookup x >>= (fun s -> fun ctx' -> Value(s, y :: ctx'))) ys\n",
    "\n",
    "let rec lookup_update: var -> state t = fun (x: var) -> fun (ctx: ctx) ->\n",
    "    match ctx with\n",
    "    | []                     -> Error (fstring \"Variable %s not in context\" x)\n",
    "    | y :: ys when x = y.var && y.used = Inf -> Value (y, ctx)\n",
    "    | y :: ys when x = y.var -> Value (y, {y with used=Used} :: ys)\n",
    "    | y :: ys                -> (lookup_update x >>= (fun s -> fun ctx' -> Value(s, y :: ctx'))) ys"
   ]
  },
  {
   "cell_type": "code",
   "execution_count": 17,
   "metadata": {},
   "outputs": [
    {
     "data": {
      "text/plain": [
       "val withvar : state -> 'a t -> 'a t = <fun>\n"
      ]
     },
     "execution_count": 17,
     "metadata": {},
     "output_type": "execute_result"
    }
   ],
   "source": [
    "let withvar: state -> 'a t -> 'a t = fun (x: state) -> fun (m: 'a t) ->\n",
    "                                    let* ctx = get in\n",
    "                                    let* r = ((set (x::ctx)) >> m) in\n",
    "                                    let* s = lookup x.var in\n",
    "                                    match s.used with\n",
    "                                    | Inf | Used -> (set ctx) >> return r\n",
    "                                    | Fresh -> error (fstring \"Unused linear variable %s\" x.var)"
   ]
  },
  {
   "cell_type": "code",
   "execution_count": 18,
   "metadata": {},
   "outputs": [],
   "source": [
    "(*let rec withvars: state list -> 'a t -> 'a t = fun xs -> fun m ->\n",
    "                                               match xs with\n",
    "                                               | []    -> m\n",
    "                                               | x::xs -> withvar x (withvars xs m)*)"
   ]
  },
  {
   "cell_type": "code",
   "execution_count": 19,
   "metadata": {},
   "outputs": [
    {
     "data": {
      "text/plain": [
       "val withvars : state list -> unit t -> unit t = <fun>\n"
      ]
     },
     "execution_count": 19,
     "metadata": {},
     "output_type": "execute_result"
    }
   ],
   "source": [
    "let withvars: state list -> 'a t -> 'a t = fun xs -> fun m ->\n",
    "                                           let* ctx = get in\n",
    "                                           let* r = ((set (xs@ctx)) >> m) in\n",
    "                                           let rec checker l =\n",
    "                                               match l with\n",
    "                                               | []    -> (set ctx) >> return ()\n",
    "                                               | x::xs -> let* s = lookup x.var in\n",
    "                                                          match s.used with\n",
    "                                                          | Inf | Used -> checker xs\n",
    "                                                          | Fresh -> error (fstring \"Unused linear variable %s\" s.var)\n",
    "                                           in checker xs"
   ]
  },
  {
   "cell_type": "code",
   "execution_count": 21,
   "metadata": {},
   "outputs": [
    {
     "data": {
      "text/plain": [
       "val rm : 'a list -> 'a -> 'a list = <fun>\n"
      ]
     },
     "execution_count": 21,
     "metadata": {},
     "output_type": "execute_result"
    }
   ],
   "source": [
    "let rec rm l v =\n",
    "    match l with\n",
    "    | x :: xs when v=x -> xs\n",
    "    | x :: xs          -> x :: (rm xs v)\n",
    "    | []               -> raise UnexpectedError"
   ]
  },
  {
   "cell_type": "code",
   "execution_count": 22,
   "metadata": {},
   "outputs": [
    {
     "data": {
      "text/plain": [
       "val find : 'a list -> 'a -> bool = <fun>\n"
      ]
     },
     "execution_count": 22,
     "metadata": {},
     "output_type": "execute_result"
    }
   ],
   "source": [
    "let rec find l v = \n",
    "    match l with\n",
    "    | x :: xs when v=x -> true\n",
    "    | x :: xs          -> find xs v\n",
    "    | []               -> false"
   ]
  },
  {
   "cell_type": "code",
   "execution_count": 23,
   "metadata": {},
   "outputs": [
    {
     "data": {
      "text/plain": [
       "val same : ctx -> ctx -> bool = <fun>\n"
      ]
     },
     "execution_count": 23,
     "metadata": {},
     "output_type": "execute_result"
    }
   ],
   "source": [
    "let rec same (ctx1: ctx) (ctx2: ctx) : bool = \n",
    "    match ctx1, ctx2 with\n",
    "    | s :: ss, _ -> if find ctx2 s then same ss (rm ctx2 s)\n",
    "                                   else false\n",
    "    | [], []     -> true\n",
    "    | [], _      -> false"
   ]
  },
  {
   "cell_type": "code",
   "execution_count": 24,
   "metadata": {},
   "outputs": [
    {
     "data": {
      "text/plain": [
       "val empty : ctx -> unit t = <fun>\n"
      ]
     },
     "execution_count": 24,
     "metadata": {},
     "output_type": "execute_result"
    }
   ],
   "source": [
    "let empty: ctx -> unit t = fun ctx ->\n",
    "    match List.find_opt (fun s -> if s.used=Fresh then true else false) ctx with\n",
    "    | Some s -> error (fstring \"Unused variable %s in linear context\" s.var)\n",
    "    | None -> return ()"
   ]
  },
  {
   "cell_type": "code",
   "execution_count": 26,
   "metadata": {},
   "outputs": [
    {
     "data": {
      "text/plain": [
       "val plsProd : typ -> (typ * typ) t = <fun>\n"
      ]
     },
     "execution_count": 26,
     "metadata": {},
     "output_type": "execute_result"
    }
   ],
   "source": [
    "let plsProd: typ -> (typ*typ) t = fun t ->\n",
    "    match t with\n",
    "    | Prod (t1, t2) -> return (t1, t2)\n",
    "    | _ -> error (fstring \"Expected something with the type of the form α*β, got %s\" (printtype t))"
   ]
  },
  {
   "cell_type": "code",
   "execution_count": 42,
   "metadata": {},
   "outputs": [
    {
     "data": {
      "text/plain": [
       "val plsTensor : typ -> (typ * typ) t = <fun>\n"
      ]
     },
     "execution_count": 42,
     "metadata": {},
     "output_type": "execute_result"
    }
   ],
   "source": [
    "let plsTensor: typ -> (typ*typ) t = fun t ->\n",
    "    match t with\n",
    "    | Prod (t1, t2) -> return (t1, t2)\n",
    "    | _ -> error (fstring \"Expected something with the type of the form α⊗β, got %s\" (printtype t))"
   ]
  },
  {
   "cell_type": "code",
   "execution_count": 43,
   "metadata": {},
   "outputs": [
    {
     "data": {
      "text/plain": [
       "val plsArrow : typ -> (typ * typ) t = <fun>\n"
      ]
     },
     "execution_count": 43,
     "metadata": {},
     "output_type": "execute_result"
    }
   ],
   "source": [
    "let plsArrow: typ -> (typ*typ) t = fun t ->\n",
    "    match t with\n",
    "    | Arrow (t1, t2) -> return (t1, t2)\n",
    "    | _ -> error (fstring \"Expected something with the type of the form α→β, got %s\" (printtype t))"
   ]
  },
  {
   "cell_type": "code",
   "execution_count": 44,
   "metadata": {},
   "outputs": [
    {
     "data": {
      "text/plain": [
       "val plsLoli : typ -> (typ * typ) t = <fun>\n"
      ]
     },
     "execution_count": 44,
     "metadata": {},
     "output_type": "execute_result"
    }
   ],
   "source": [
    "let plsLoli: typ -> (typ*typ) t = fun t ->\n",
    "    match t with\n",
    "    | Loli (t1, t2) -> return (t1, t2)\n",
    "    | _ -> error (fstring \"Expected something with the type of the form α⊸β, got %s\" (printtype t))"
   ]
  },
  {
   "cell_type": "code",
   "execution_count": 28,
   "metadata": {},
   "outputs": [
    {
     "data": {
      "text/plain": [
       "val plsSum : typ -> (typ * typ) t = <fun>\n"
      ]
     },
     "execution_count": 28,
     "metadata": {},
     "output_type": "execute_result"
    }
   ],
   "source": [
    "let plsSum: typ -> (typ*typ) t = fun t ->\n",
    "    match t with\n",
    "    | LSum (t1, t2) | ISum (t1, t2) -> return (t1, t2)\n",
    "    | _ -> error (fstring \"Expected something of the type α⊕β, got %s\" (printtype t))"
   ]
  },
  {
   "cell_type": "code",
   "execution_count": 46,
   "metadata": {},
   "outputs": [
    {
     "data": {
      "text/plain": [
       "val plsLSum : typ -> (typ * typ) t = <fun>\n"
      ]
     },
     "execution_count": 46,
     "metadata": {},
     "output_type": "execute_result"
    }
   ],
   "source": [
    "let plsLSum: typ -> (typ*typ) t = fun t ->\n",
    "    match t with\n",
    "    | LSum (t1, t2) -> return (t1, t2)\n",
    "    | _ -> error (fstring \"Expected something with the type of the form α⊕β, got %s\" (printtype t))"
   ]
  },
  {
   "cell_type": "code",
   "execution_count": 47,
   "metadata": {},
   "outputs": [
    {
     "data": {
      "text/plain": [
       "val plsISum : typ -> (typ * typ) t = <fun>\n"
      ]
     },
     "execution_count": 47,
     "metadata": {},
     "output_type": "execute_result"
    }
   ],
   "source": [
    "let plsISum: typ -> (typ*typ) t = fun t ->\n",
    "    match t with\n",
    "    | ISum (t1, t2) -> return (t1, t2)\n",
    "    | _ -> error (fstring \"Expected something with the type of the form α+β, got %s\" (printtype t))"
   ]
  },
  {
   "cell_type": "code",
   "execution_count": 48,
   "metadata": {},
   "outputs": [
    {
     "data": {
      "text/plain": [
       "val plsF : typ -> typ t = <fun>\n"
      ]
     },
     "execution_count": 48,
     "metadata": {},
     "output_type": "execute_result"
    }
   ],
   "source": [
    "let plsF: typ -> typ t = fun t ->\n",
    "    match t with\n",
    "    | F(t) -> return t\n",
    "    | _ -> error (fstring \"Expected something with the type of the form F(α), got %s\" (printtype t))"
   ]
  },
  {
   "cell_type": "code",
   "execution_count": 49,
   "metadata": {},
   "outputs": [
    {
     "data": {
      "text/plain": [
       "val plsG : typ -> typ t = <fun>\n"
      ]
     },
     "execution_count": 49,
     "metadata": {},
     "output_type": "execute_result"
    }
   ],
   "source": [
    "let plsG: typ -> typ t = fun t ->\n",
    "    match t with\n",
    "    | G(t) -> return t\n",
    "    | _ -> error (fstring \"Expected something with the type of the form G(α), got %s\" (printtype t))"
   ]
  },
  {
   "cell_type": "code",
   "execution_count": 31,
   "metadata": {},
   "outputs": [
    {
     "data": {
      "text/plain": [
       "val lim : ctx -> ctx t = <fun>\n"
      ]
     },
     "execution_count": 31,
     "metadata": {},
     "output_type": "execute_result"
    }
   ],
   "source": [
    "let lim: ctx -> ctx t = fun ctx ->\n",
    "    return (List.filter (fun s -> s.used=Inf) ctx)"
   ]
  },
  {
   "cell_type": "code",
   "execution_count": 33,
   "metadata": {},
   "outputs": [
    {
     "data": {
      "text/plain": [
       "type ent = Lin | Int\n"
      ]
     },
     "execution_count": 33,
     "metadata": {},
     "output_type": "execute_result"
    },
    {
     "data": {
      "text/plain": [
       "val printent : ent -> string = <fun>\n"
      ]
     },
     "execution_count": 33,
     "metadata": {},
     "output_type": "execute_result"
    }
   ],
   "source": [
    "type ent = Lin | Int\n",
    "\n",
    "let printent e = match e with Lin->\"linear\" | Int->\"intuitionistic\""
   ]
  },
  {
   "cell_type": "code",
   "execution_count": 50,
   "metadata": {
    "scrolled": true
   },
   "outputs": [
    {
     "data": {
      "text/plain": [
       "val check : expr -> typ -> ent -> unit t = <fun>\n",
       "val infer : expr -> ent -> typ t = <fun>\n"
      ]
     },
     "execution_count": 50,
     "metadata": {},
     "output_type": "execute_result"
    }
   ],
   "source": [
    "let rec check (e: expr) (t: typ) (ent: ent) : unit t = \n",
    "    match e, t, ent with\n",
    "    | EUnit, LUnit, Lin -> return ()\n",
    "    | EUnit, IUnit, Int -> return ()\n",
    "    | Lambda (x, e'), Loli (t1, t2), Lin -> withvar (fresh x t1) (check e' t2 Lin)\n",
    "    | Lambda (x, e'), Arrow (t1, t2), Int -> withvar (int x t1) (check e' t2 Int)\n",
    "    | Pair (e1, e2), Tensor (t1, t2), Lin -> check e1 t1 Lin >> check e2 t2 Lin\n",
    "    | Pair (e1, e2), Prod (t1, t2), Int -> check e1 t1 Int >> check e2 t2 Int\n",
    "    | Unpair (x1, x2, e1, e2), _, Lin -> let* t1, t2 = infer e1 Lin >>> plsTensor in\n",
    "                                    withvars ([fresh x1 t1; fresh x2 t2]) (check e2 t2 Lin)\n",
    "    | L(e'), LSum(t1, t2), Lin -> check e' t1 Lin\n",
    "    | R(e'), LSum(t1, t2), Lin -> check e' t2 Lin\n",
    "    | L(e'), ISum(t1, t2), Int -> check e' t1 Int\n",
    "    | R(e'), ISum(t1, t2), Int -> check e' t2 Int\n",
    "    | Case (e', x1, e1, x2, e2), _ , Lin -> let* t1, t2 = infer e' Lin >>> plsLSum in\n",
    "                                            let* ctx1 = withvar (fresh x1 t1) (check e1 t Lin >> get) in\n",
    "                                            let* ctx2 = withvar (fresh x2 t2) (check e2 t Lin >> get) in\n",
    "                                            if same ctx1 ctx2 then set ctx1 >> return () (*make same also monadic and make it error with a diff*)\n",
    "                                                              else error (fstring \"Different resulting contexts in case statement %s\" (printexpr e))                                       \n",
    "    | Case (e', x1, e1, x2, e2), _ , Int -> let* t1, t2 = infer e' Int >>> plsISum in\n",
    "                                            withvar (int x1 t1) (check e1 t Int) >>\n",
    "                                            withvar (int x2 t2) (check e2 t Int)\n",
    "    | LetF (x, e1, e2), _, Lin -> let* t' = infer e1 Lin >>> plsF in\n",
    "                                  withvar (int x t') (check e2 t Lin)\n",
    "    | EG(e'), G(t'), Int -> let* ctx = get in\n",
    "                            lim ctx >>> set >> check e' t' Lin >> get >>> empty >> set ctx\n",
    "    | _, _, _ -> let* t' = infer e ent in\n",
    "                 if t=t' then return ()\n",
    "                         else error (fstring \"Can't type check %s with %s in a %s context\" (printexpr e) (printtype t) (printent ent))\n",
    "and infer (e: expr) (ent: ent) : typ t =\n",
    "    match e, ent with \n",
    "    | Var x, _ -> let* s = lookup_update x in (\n",
    "                      match s.used with\n",
    "                      | Fresh when ent=Lin -> return s.typ\n",
    "                      | Inf when ent=Int -> return s.typ\n",
    "                      | Used when ent=Lin -> error (fstring \"Multiple usages of variable %s in linear context\" x)\n",
    "                      | Inf -> error (fstring \"Improper usage of linear variable %s in intuitionistic context\" x)\n",
    "                      | _ -> error (fstring \"Improper usage of intuitionistic variable %s in linear context\" x)\n",
    "                  )\n",
    "    | Proj1(e'), Int -> let* t1, t2 = infer e' Int >>> plsProd in return t1\n",
    "    | Proj2(e'), Int -> let* t1, t2 = infer e' Int >>> plsProd in return t2\n",
    "    | Annot (e', t), _ -> check e' t ent >> return t\n",
    "    | App (e1, e2), _ -> let* t1, t2 = infer e1 ent >>> plsArrow in\n",
    "                         check e2 t1 ent >> return t2\n",
    "    | Run(e'), Lin -> infer e' Int >>> plsG >>> return\n",
    "    | EF(e'), Lin -> let* ctx = get in\n",
    "                     let* t' = lim ctx >>> set >> infer e' Int in\n",
    "                     set ctx >> return (F t')\n",
    "    | _ -> error (fstring \"Can't infer type of %s\" (printexpr e))"
   ]
  }
 ],
 "metadata": {
  "kernelspec": {
   "display_name": "OCaml s",
   "language": "OCaml",
   "name": "ocaml-jupyter-s"
  },
  "language_info": {
   "codemirror_mode": "text/x-ocaml",
   "file_extension": ".ml",
   "mimetype": "text/x-ocaml",
   "name": "OCaml",
   "nbconverter_exporter": null,
   "pygments_lexer": "OCaml",
   "version": "4.14.0"
  }
 },
 "nbformat": 4,
 "nbformat_minor": 4
}
